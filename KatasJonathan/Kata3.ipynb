{
  "cells": [
    {
      "cell_type": "markdown",
      "metadata": {},
      "source": [
        "# Ejercicio - Escribir declaraciones `if`, `else`, y `elif`\n",
        "\n",
        "Para este ejercicio, escribirás una lógica condicional que imprima una advertencia si un asteroide se acerca a la Tierra demasiado rápido. La velocidad del asteroide varía dependiendo de lo cerca que esté del sol, y cualquier velocidad superior a 25 kilómetros por segundo (km/s) merece una advertencia.\n",
        "\n",
        "Un asteroide se acerca, y viaja a una velocidad de 49 km/s."
      ]
    },
    {
      "cell_type": "code",
      "execution_count": 4,
      "metadata": {},
      "outputs": [
        {
          "name": "stdout",
          "output_type": "stream",
          "text": [
            "¡Peligro! el asteroide se acerca demasiado rápido :o\n"
          ]
        }
      ],
      "source": [
        "# Añadir el código necesario para crear una variable que guarde la velocidad del asteroide.\n",
        "velocidad_asteroide = 49\n",
        "\n",
        "# Escribe una expresión de prueba para calcular si necesita una advertencia.\n",
        "if velocidad_asteroide > 25:\n",
        "\n",
        "# Agregue las instrucciones que se ejecutarán si la expresión de prueba es true o false.\n",
        "    print(\"¡Peligro! el asteroide se acerca demasiado rápido :o\")\n",
        "else:\n",
        "    print(\"El asteroide no representa peligro uwu\")"
      ]
    },
    {
      "cell_type": "markdown",
      "metadata": {},
      "source": [
        "Si un asteroide entra en la atmósfera de la Tierra a una velocidad mayor o igual a 20 km/s, a veces produce un rayo de luz que se puede ver desde la Tierra. Escribe la lógica condicional que usa declaraciones `if`, `else`, y `elif` para alertar a las personas de todo el mundo que deben buscar un asteroide en el cielo. ¡Hay uno que se dirige a la tierra ahora a una velocidad de 19 km/s!"
      ]
    },
    {
      "cell_type": "code",
      "execution_count": 11,
      "metadata": {},
      "outputs": [
        {
          "name": "stdout",
          "output_type": "stream",
          "text": [
            "Ha entrado un asteroide a la tierra, pero su trayecto no es visible :c\n"
          ]
        }
      ],
      "source": [
        "# Agrega el código para crear una variable para un asteroide que viaja a 19 km/s\n",
        "asteroide_tierra = 19\n",
        "\n",
        "# Escribe varias expresiones de prueba para determinar si puedes ver el rayo de luz desde la tierra\n",
        "# Agrega las instrucciones que se ejecutarán si las expresiones de prueba son True o False\n",
        "if asteroide_tierra == 20:\n",
        "    print(\"Un asteroide ha entrado a la atmósfera, ¡observa su destello! :D\")\n",
        "elif asteroide_tierra > 20:\n",
        "    print(\"Un asteroide ha entrado a la atmósfera, ¡observa su destello! :D\")\n",
        "else:\n",
        "    print(\"Ha entrado un asteroide a la tierra, pero su trayecto no es visible :c\")\n"
      ]
    },
    {
      "cell_type": "markdown",
      "metadata": {},
      "source": [
        "# Ejercicio: Uso de operadores `and` y `or` \n",
        "\n",
        "En este ejercicio, aprenderás información más matizada sobre cuándo los asteroides representan un peligro para la Tierra, y utilizarás esa información para mejorar nuestro sistema de advertencia. Aquí está la nueva información que necesitas saber:\n",
        "\n",
        "*Los asteroides de menos de 25 metros en su dimensión más grande probablemente se quemarán a medida que entren en la atmósfera de la Tierra.\n",
        "* Si una pieza de un asteroide que es más grande que 25 metros pero más pequeña que 1000 metros golpeara la Tierra, causaría mucho daño.\n",
        "\n",
        "También discutimos en el ejercicio anterior que:\n",
        "\n",
        "* La velocidad del asteroide varía en función de lo cerca que esté del sol, y cualquier velocidad superior a 25 kilómetros por segundo (km/s) merece una advertencia.\n",
        "* Si un asteroide entra en la atmósfera de la Tierra a una velocidad mayor o igual a 20 km/s, a veces produce un rayo de luz que se puede ver desde la Tierra.\n",
        "\n",
        "Usando toda esta información, escribe un programa que emita la advertencia o información correcta a la gente de la Tierra, según la velocidad y el tamaño de un asteroide. Utiliza instrucciones `if`, `else`, y `elif`, así como los operadores `and` y `or`."
      ]
    },
    {
      "cell_type": "code",
      "execution_count": 12,
      "metadata": {},
      "outputs": [
        {
          "name": "stdout",
          "output_type": "stream",
          "text": [
            "¡Peligro! Un gran asteroide se aproxima\n",
            "Un asteroide ha entrado a la atmósfera, ¡observa su destello! :D\n"
          ]
        }
      ],
      "source": [
        "# Agrega el código para crear nuevas variables para la velocidad y el tamaño del asteroide\n",
        "velocidad_ast = 25\n",
        "tamaño_ast = 25\n",
        "\n",
        "# Para probar el código, prueba con varias velocidades y tamaños\n",
        "# Escribe varias expresiones de prueba o combinaciones de expresiones de prueba para determinar qué mensaje se debe enviar a Tierra.\n",
        "\n",
        "if tamaño_ast > 0 and tamaño_ast <25:\n",
        "    print(\"El tamaño del asteroide no representa peligro\")\n",
        "elif tamaño_ast >= 25 and tamaño_ast < 1000:\n",
        "    print(\"¡Peligro! Un gran asteroide se aproxima\")\n",
        "elif tamaño_ast > 1000:\n",
        "    print(\"El fin del mundo se aproxima\")\n",
        "else:\n",
        "    print(\"Error, no existen asteroides de esas dimensiones\")\n",
        "\n",
        "if velocidad_ast > 25:\n",
        "    print(\"¡Peligro! el asteroide se acerca demasiado rápido :o\")\n",
        "elif velocidad_ast > 20:\n",
        "    print(\"Un asteroide ha entrado a la atmósfera, ¡observa su destello! :D\")"
      ]
    }
  ],
  "metadata": {
    "interpreter": {
      "hash": "916dbcbb3f70747c44a77c7bcd40155683ae19c65e1c03b4aa3499c5328201f1"
    },
    "kernel_info": {
      "name": "conda-env-py37_default-py"
    },
    "kernelspec": {
      "display_name": "py37_default",
      "language": "python",
      "name": "python3"
    },
    "language_info": {
      "codemirror_mode": {
        "name": "ipython",
        "version": 3
      },
      "file_extension": ".py",
      "mimetype": "text/x-python",
      "name": "python",
      "nbconvert_exporter": "python",
      "pygments_lexer": "ipython3",
      "version": "3.9.2"
    },
    "nteract": {
      "version": "nteract-front-end@1.0.0"
    },
    "orig_nbformat": 4
  },
  "nbformat": 4,
  "nbformat_minor": 2
}
