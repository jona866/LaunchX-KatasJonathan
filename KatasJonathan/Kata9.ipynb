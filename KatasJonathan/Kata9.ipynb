{
  "cells": [
    {
      "cell_type": "markdown",
      "metadata": {},
      "source": [
        "# Ejercicio: Uso de funciones en Python"
      ]
    },
    {
      "cell_type": "markdown",
      "metadata": {},
      "source": [
        "### Ejercicio 1: Trabajar con argumentos en funciones\n",
        "\n",
        "Los argumentos requeridos en las funciones se utilizan cuando las funciones necesitan que esos argumentos funcionen correctamente. En este ejercicio, construirás un informe de combustible que requiere información de varias ubicaciones de combustible en todo el cohete.\n",
        "\n"
      ]
    },
    {
      "cell_type": "markdown",
      "metadata": {},
      "source": [
        "> **TIP**\n",
        "> Dedica unos minutos para tratar de encontrar una solución. Luego desplázate hacia abajo hasta la parte inferior para ver si has logrado compilar el programa de acuerdo con las especificaciones\n",
        "\n",
        "Comienza por crear una función que necesite tres lecturas de combustible y devuelva un informe:"
      ]
    },
    {
      "cell_type": "code",
      "execution_count": 12,
      "metadata": {},
      "outputs": [],
      "source": [
        "# Función para leer 3 tanques de combustible y muestre el promedio\n",
        "def reporte_combustible(lectura1, lectura2, lectura3):\n",
        "    dato_informe = (lectura1 + lectura2 + lectura3) / 3\n",
        "    if dato_informe <= 0:\n",
        "        print(\"¡No hay combustible!\")\n",
        "    else:\n",
        "        print(\"El estado del combustible general es:\", str(dato_informe), \"%. Lectura 1:\",\n",
        "        str(lectura1), \"%. Lectura 2:\", str(lectura2), \"%. Lectura 3:\", lectura3, \"%.\")"
      ]
    },
    {
      "cell_type": "markdown",
      "metadata": {},
      "source": [
        "Ahora que hemos definido la función de informes, vamos a comprobarlo. Para esta misión, los tanques no están llenos:"
      ]
    },
    {
      "cell_type": "code",
      "execution_count": 13,
      "metadata": {},
      "outputs": [
        {
          "name": "stdout",
          "output_type": "stream",
          "text": [
            "¡No hay combustible!\n",
            "None\n"
          ]
        }
      ],
      "source": [
        "\n",
        "# Llamamos a la función que genera el reporte print(funcion(tanque1, tanque2, tanque3))\n",
        "print(reporte_combustible(0,0,0))"
      ]
    },
    {
      "cell_type": "markdown",
      "metadata": {},
      "source": [
        "En lugar de simplemente crear el informe, la función también está calculando el promedio. Mejora la legibilidad extrayendo el cálculo promedio de la función en una nueva función para que el promedio se pueda hacer de forma independiente:"
      ]
    },
    {
      "cell_type": "code",
      "execution_count": 15,
      "metadata": {},
      "outputs": [],
      "source": [
        "# Función promedio \n",
        "def promedio(lecturas):\n",
        "     sumatoria = sum(lecturas)\n",
        "     enes = len(lecturas)\n",
        "     return sumatoria / enes\n",
        "\n",
        "#def promedio(lectura1, lectura2, lectura3):\n",
        "#     sumatoria = lectura1 + lectura2 + lectura3\n",
        "#     return sumatoria / 3\n"
      ]
    },
    {
      "cell_type": "markdown",
      "metadata": {},
      "source": [
        "Ahora actualiza la función de informes para llamando a la nueva función del promedio:\n"
      ]
    },
    {
      "cell_type": "code",
      "execution_count": 16,
      "metadata": {},
      "outputs": [
        {
          "name": "stdout",
          "output_type": "stream",
          "text": [
            "El estado del combustible general es: 78.0 . Lectura 1: 88 . Lectura 2: 76 Lectura 3: 70\n",
            "None\n"
          ]
        }
      ],
      "source": [
        "# Actualiza la función\n",
        "def reporte_combustible(lectura1, lectura2, lectura3):\n",
        "    dato_informe = promedio\n",
        "    if dato_informe <= 0:\n",
        "        print(\"¡No hay combustible!\")\n",
        "    else:\n",
        "        print(\"El estado del combustible general es:\", str(dato_informe), \"%. Lectura 1:\",\n",
        "        str(lectura1), \"%. Lectura 2:\", str(lectura2), \"%. Lectura 3:\", lectura3, \"%.\")\n",
        "\n",
        "# Call the updated function again with different values\n",
        "print(generate_report(88, 76, 70))\n"
      ]
    },
    {
      "cell_type": "markdown",
      "metadata": {},
      "source": [
        "> Recuerda: Lo importante es intentarlo, puedes auxiliarte de internet, libros, etc. El objetivo de una kata es la comprobación de la comprensión de la lección y su aplicación inmediata a la resolución de problemas. Go for it!"
      ]
    },
    {
      "cell_type": "markdown",
      "metadata": {},
      "source": [
        "## Ejercicio 2: Trabajo con argumentos de palabra clave"
      ]
    },
    {
      "cell_type": "markdown",
      "metadata": {},
      "source": [
        "### Ejercicio : Trabajar con argumentos de palabras clave en funciones\n",
        "En este ejercicio, construirás un informe de cohete que requiere varias piezas de información, como el tiempo hasta el destino, el combustible a la izquierda y el nombre del destino. Comienza por crear una función que creará un informe preciso de la misión:"
      ]
    },
    {
      "cell_type": "code",
      "execution_count": 29,
      "metadata": {},
      "outputs": [
        {
          "name": "stdout",
          "output_type": "stream",
          "text": [
            "\n",
            "    Destino de la misión Sol,\n",
            "    Tiempo total de viaje: 150\n",
            "    Combustible disponible: 1368600\n"
          ]
        }
      ],
      "source": [
        "# Función con un informe preciso de la misión. Considera hora de prelanzamiento, tiempo de vuelo,\n",
        "# destino, tanque externo y tanque interno\n",
        "\n",
        "def reporte_general(tiempo_prelanzamiento, tiempo_vuelo, destino, tanque_ex, tanque_int):\n",
        "    reporte = f\"\"\"\n",
        "    Destino de la misión {destino},\n",
        "    Tiempo total de viaje: {tiempo_vuelo + tiempo_prelanzamiento}\n",
        "    Combustible disponible: {tanque_ex + tanque_int}\"\"\"\n",
        "    return reporte\n",
        "\n",
        "print(reporte_general(60,90 , \"Sol\", 485000, 883600))"
      ]
    },
    {
      "cell_type": "markdown",
      "metadata": {},
      "source": [
        "La función es problemática porque no se puede adaptar para minutos adicionales o tanques adicionales de combustible. Hazlo más flexible permitiendo cualquier número de pasos basados en el tiempo y cualquier número de tanques. En lugar de usar `*args` y `**kwargs`, aprovecha el hecho de que puedes usar cualquier nombre que desees. Asegurate que la función sea más legible mediante el uso de nombres de variables que están asociados con las entradas, como `*minutes` y `**fuel_reservoirs`:"
      ]
    },
    {
      "cell_type": "code",
      "execution_count": 28,
      "metadata": {},
      "outputs": [
        {
          "name": "stdout",
          "output_type": "stream",
          "text": [
            "\n",
            "    Destino de la misión Sol,\n",
            "    Tiempo total de viaje: 550\n",
            "    Combustible disponible: 9944000\n"
          ]
        }
      ],
      "source": [
        "# Escribe tu nueva función de reporte considerando lo anterior\n",
        "def reporte_general(destino, *tiempo, **combustible):\n",
        "    reporte = f\"\"\"\n",
        "    Destino de la misión {destino},\n",
        "    Tiempo total de viaje: {sum(tiempo)}\n",
        "    Combustible disponible: {sum(combustible.values())}\"\"\"\n",
        "    return reporte\n",
        "\n",
        "print(reporte_general(\"Sol\", 44, 415, 91, interno=81000, externo=9863000))"
      ]
    },
    {
      "cell_type": "markdown",
      "metadata": {},
      "source": [
        "Debido a que el combustible que queda en los tanques es específico de cada tanque, actualiza la función para usar el nombre de cada tanque en el informe:"
      ]
    },
    {
      "cell_type": "code",
      "execution_count": 36,
      "metadata": {},
      "outputs": [
        {
          "name": "stdout",
          "output_type": "stream",
          "text": [
            "\n",
            "    Destino de la misión Sol,\n",
            "    Tiempo total de viaje: 550\n",
            "    Combustible disponible: 9944000El tanque interno tiene --> 81000 de combustrible restante\n",
            "El tanque externo tiene --> 9863000 de combustrible restante\n",
            "\n"
          ]
        }
      ],
      "source": [
        "# Escribe tu nueva función\n",
        "def reporte_general(destino, *tiempo, **combustible):\n",
        "    reporte = f\"\"\"\n",
        "    Destino de la misión {destino},\n",
        "    Tiempo total de viaje: {sum(tiempo)}\n",
        "    Combustible disponible: {sum(combustible.values())}\"\"\"\n",
        "    for tanque, cantidad in combustible.items():\n",
        "        reporte += f'El tanque {tanque} tiene --> {cantidad} de combustrible restante\\n'\n",
        "    return reporte\n",
        "\n",
        "print(reporte_general(\"Sol\", 44, 415, 91, interno=81000, externo=9863000))\n",
        "\n",
        "# Este no le entendí :c"
      ]
    }
  ],
  "metadata": {
    "interpreter": {
      "hash": "205095b8b86ea82a021a8fc2ffba2b3bc9f8d0be25999901963b225939f75778"
    },
    "kernelspec": {
      "display_name": "Python 3.8.10 64-bit ('tmp': conda)",
      "name": "python3"
    },
    "language_info": {
      "codemirror_mode": {
        "name": "ipython",
        "version": 3
      },
      "file_extension": ".py",
      "mimetype": "text/x-python",
      "name": "python",
      "nbconvert_exporter": "python",
      "pygments_lexer": "ipython3",
      "version": "3.9.2"
    },
    "nteract": {
      "version": "nteract-front-end@1.0.0"
    },
    "orig_nbformat": 4
  },
  "nbformat": 4,
  "nbformat_minor": 2
}
