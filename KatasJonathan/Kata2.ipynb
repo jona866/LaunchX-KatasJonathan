{
 "cells": [
  {
   "cell_type": "markdown",
   "metadata": {},
   "source": [
    "# Ejercicio - Crear un paquete"
   ]
  },
  {
   "cell_type": "markdown",
   "metadata": {},
   "source": [
    "## Crear un entorno virtual\n",
    "\n",
    "Procedimiento para la creación de un entorno virtual\n",
    "\n",
    "![Comandos terminal 1](https://github.com/jona866/LaunchX-KatasJonathan/blob/main/KatasJonathan/img/terminal1.jpg)\n",
    "\n",
    "![Comandos terminal 2](https://github.com/jona866/LaunchX-KatasJonathan/blob/main/KatasJonathan/img/terminal2.jpg)\n",
    "\n",
    "Una vez desactivado el entorno virtual, este es el resultado de lo que se creo dentro de la carpeta.\n",
    "\n",
    "![Comandos terminal](https://github.com/jona866/LaunchX-KatasJonathan/blob/main/KatasJonathan/img/carpeta-env.jpg)"
   ]
  }
 ],
 "metadata": {
  "language_info": {
   "name": "python"
  },
  "orig_nbformat": 4
 },
 "nbformat": 4,
 "nbformat_minor": 2
}
