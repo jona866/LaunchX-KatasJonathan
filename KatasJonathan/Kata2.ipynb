{
 "cells": [
  {
   "cell_type": "markdown",
   "metadata": {},
   "source": [
    "# Ejercicio - Crear un paquete"
   ]
  },
  {
   "cell_type": "markdown",
   "metadata": {},
   "source": [
    "## Crear un entorno virtual\n",
    "\n",
    "Procedimiento para la creación de un entorno virtual\n",
    "\n",
    "![Comandos terminal 1](https://github.com/jona866/LaunchX-KatasJonathan/blob/main/KatasJonathan/img/terminal1.jpg)\n",
    "\n",
    "![Comandos terminal 2](https://github.com/jona866/LaunchX-KatasJonathan/blob/main/KatasJonathan/img/terminal2.jpg)\n",
    "\n",
    "Una vez desactivado el entorno virtual, este es el resultado de lo que se creo dentro de la carpeta.\n",
    "\n",
    "![Carpeta del entorno](https://github.com/jona866/LaunchX-KatasJonathan/blob/main/KatasJonathan/img/carpeta-env.jpg)"
   ]
  },
  {
   "cell_type": "markdown",
   "metadata": {},
   "source": [
    "Si no se pueden ver ls imagenes, dejo los hipervínculos:\n",
    "- [Comandos terminal 1](https://github.com/jona866/LaunchX-KatasJonathan/blob/main/KatasJonathan/img/terminal1.jpg)\n",
    "\n",
    "- [Comandos terminal 2](https://github.com/jona866/LaunchX-KatasJonathan/blob/main/KatasJonathan/img/terminal2.jpg)\n",
    "\n",
    "- [Carperta del entorno](https://github.com/jona866/LaunchX-KatasJonathan/blob/main/KatasJonathan/img/carpeta-env.jpg)"
   ]
  },
  {
   "cell_type": "code",
   "execution_count": null,
   "metadata": {},
   "outputs": [],
   "source": []
  },
  {
   "cell_type": "code",
   "execution_count": null,
   "metadata": {},
   "outputs": [],
   "source": []
  }
 ],
 "metadata": {
  "kernelspec": {
   "display_name": "Python 3",
   "language": "python",
   "name": "python3"
  },
  "language_info": {
   "codemirror_mode": {
    "name": "ipython",
    "version": 3
   },
   "file_extension": ".py",
   "mimetype": "text/x-python",
   "name": "python",
   "nbconvert_exporter": "python",
   "pygments_lexer": "ipython3",
   "version": "3.9.2"
  }
 },
 "nbformat": 4,
 "nbformat_minor": 2
}
